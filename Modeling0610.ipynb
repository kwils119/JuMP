{
 "cells": [
  {
   "cell_type": "code",
   "execution_count": 1,
   "id": "c45921dc",
   "metadata": {},
   "outputs": [
    {
     "name": "stdout",
     "output_type": "stream",
     "text": [
      "\u001b[4m\u001b[1mIMPORTED FUNCTIONS:\n",
      "\n",
      "\u001b[0m\n",
      "\u001b[1mtimes(start, stop): \u001b[0mcreates list of times to record data for input has all nodes and their edges\n",
      "\n",
      "\n",
      "\u001b[1medgeslist(input1): \u001b[0moutputs the edge labels as seen in the Labeled Map of Knoxville\n",
      "\n",
      "\n",
      "\u001b[1mtraffic(times, edges): \u001b[0mallows user to input traffic conditions and outputs as a list\n",
      "\n",
      "\n",
      "\u001b[1mtrafficTxt(times, edges, filename=\"TrafficConditions.txt\", accessmode=\"w+\"): \u001b[0msaves as file\n",
      "\n",
      "\n",
      "\u001b[1mtimeEachNode (distances, trafficConditions, timeOfDay, Day=\"Sun\"): \u001b[0moutputs a list of weights of each edge\n",
      "\n",
      "\n",
      "\u001b[1mtimeEachNodeTxt (distances, trafficConditions, timeOfDay, Day=\"Sun\", filename = \"NodeWeights.txt\", \n",
      "accessmode = \"w+\"): \u001b[0msaves as file\n",
      "\n",
      "\n",
      "\u001b[1mtimeEachTxt (input1, input2, distances, trafficConditions, timeOfDay, Day=\"Sun\", filename = \"EdgeWeights.txt\", \n",
      " accessmode = \"w+\"): \u001b[0msaves as file\n",
      "\n",
      "\n",
      "\u001b[1monebigfunction(timeOfDay, Day, trafficConditions, filename=\"EdgeWeights.txt\", \n",
      " accessmode = \"w+\"): \u001b[0msaves as file\n",
      "\n",
      "\n",
      "\u001b[1mcolor Class: \u001b[0mpurple, cyan, darkcyan, blue, green, yellow, red, bold, underline, end\n"
     ]
    }
   ],
   "source": [
    "%run ./ModelingFunctions.ipynb"
   ]
  },
  {
   "cell_type": "code",
   "execution_count": 2,
   "id": "ecf1a417",
   "metadata": {},
   "outputs": [],
   "source": [
    "import numpy as np"
   ]
  },
  {
   "cell_type": "code",
   "execution_count": 3,
   "id": "2615e078",
   "metadata": {},
   "outputs": [],
   "source": [
    "extimes = times(600,700)\n",
    "exedges = edgeslist(input1)"
   ]
  },
  {
   "cell_type": "code",
   "execution_count": 4,
   "id": "6a70e7cf",
   "metadata": {},
   "outputs": [],
   "source": [
    "# trafficTxt(extimes, exedges, \"ShowingNoah.txt\")"
   ]
  },
  {
   "cell_type": "code",
   "execution_count": 5,
   "id": "6477212c",
   "metadata": {},
   "outputs": [
    {
     "data": {
      "text/plain": [
       "array([['600', '1A', 'NA'],\n",
       "       ['600', '1B', 'NA'],\n",
       "       ['600', '2B', 'G'],\n",
       "       ...,\n",
       "       ['1600', '19F', 'O'],\n",
       "       ['1600', '20G', 'O'],\n",
       "       ['1600', '20K', 'NA']], dtype='<U4')"
      ]
     },
     "execution_count": 5,
     "metadata": {},
     "output_type": "execute_result"
    }
   ],
   "source": [
    "filename = 'HodgesNeyland616.txt'\n",
    "data = np.loadtxt(filename, dtype=str)\n",
    "HN616 = data\n",
    "HN616"
   ]
  },
  {
   "cell_type": "code",
   "execution_count": 6,
   "id": "1db2043e",
   "metadata": {},
   "outputs": [
    {
     "data": {
      "text/plain": [
       "[600,\n",
       " 615,\n",
       " 630,\n",
       " 645,\n",
       " 700,\n",
       " 715,\n",
       " 730,\n",
       " 745,\n",
       " 800,\n",
       " 815,\n",
       " 830,\n",
       " 845,\n",
       " 900,\n",
       " 915,\n",
       " 930,\n",
       " 945,\n",
       " 1000,\n",
       " 1015,\n",
       " 1030,\n",
       " 1045,\n",
       " 1100,\n",
       " 1115,\n",
       " 1130,\n",
       " 1145,\n",
       " 1200,\n",
       " 1215,\n",
       " 1230,\n",
       " 1245,\n",
       " 1300,\n",
       " 1315,\n",
       " 1330,\n",
       " 1345,\n",
       " 1400,\n",
       " 1415,\n",
       " 1430,\n",
       " 1445,\n",
       " 1500,\n",
       " 1515,\n",
       " 1530,\n",
       " 1545,\n",
       " 1600]"
      ]
     },
     "execution_count": 6,
     "metadata": {},
     "output_type": "execute_result"
    }
   ],
   "source": [
    "times6_16 = times(600, 1600)\n",
    "edges = edgeslist(input1)\n",
    "times6_16"
   ]
  },
  {
   "cell_type": "code",
   "execution_count": 7,
   "id": "636a2b3c",
   "metadata": {},
   "outputs": [],
   "source": [
    "# trafficTxt(times6_16, edges, \"showingnoahexample.txt\", \"a+\")"
   ]
  },
  {
   "cell_type": "code",
   "execution_count": 8,
   "id": "55adf274",
   "metadata": {},
   "outputs": [
    {
     "data": {
      "text/plain": [
       "array([['600', '1A', 'NA'],\n",
       "       ['600', '1B', 'NA'],\n",
       "       ['600', '2B', 'G'],\n",
       "       ...,\n",
       "       ['1600', '19F', 'O'],\n",
       "       ['1600', '20G', 'O'],\n",
       "       ['1600', '20K', 'NA']], dtype='<U4')"
      ]
     },
     "execution_count": 8,
     "metadata": {},
     "output_type": "execute_result"
    }
   ],
   "source": [
    "filename = 'HodgesNeyland616.txt'\n",
    "data = np.loadtxt(filename, dtype=str)\n",
    "HN616 = data\n",
    "HN616"
   ]
  },
  {
   "cell_type": "code",
   "execution_count": 9,
   "id": "24ff7c8f",
   "metadata": {},
   "outputs": [],
   "source": [
    "# timeEachTxt(input1, input2, distancesList, HN616, 1200, \"Sun\", \"Example615.txt\")"
   ]
  },
  {
   "cell_type": "code",
   "execution_count": 10,
   "id": "69c49770",
   "metadata": {},
   "outputs": [
    {
     "data": {
      "text/plain": [
       "[('1A', 377),\n",
       " ('1B', 377),\n",
       " ('2B', 528),\n",
       " ('2D', 528),\n",
       " ('3B', 1056),\n",
       " ('3E', 1056),\n",
       " ('4A', 367),\n",
       " ('5D', 528),\n",
       " ('5M', 528),\n",
       " ('6C', 430),\n",
       " ('6F', 430),\n",
       " ('7F', 400),\n",
       " ('7G', 400),\n",
       " ('8G', 302),\n",
       " ('8H', 302),\n",
       " ('9H', 528),\n",
       " ('9I', 528),\n",
       " ('10I', 528),\n",
       " ('10J', 528),\n",
       " ('11I', 300),\n",
       " ('11K', 300),\n",
       " ('12J', 318),\n",
       " ('12L', 318),\n",
       " ('13K', 350),\n",
       " ('13D', 350),\n",
       " ('14K', 528),\n",
       " ('15L', 400),\n",
       " ('15M', 400),\n",
       " ('16M', 2112),\n",
       " ('16N', 2112),\n",
       " ('17E', 528),\n",
       " ('17N', 528),\n",
       " ('18N', 528),\n",
       " ('18O', 528),\n",
       " ('19D', 528),\n",
       " ('19F', 528),\n",
       " ('20K', 528)]"
      ]
     },
     "execution_count": 10,
     "metadata": {},
     "output_type": "execute_result"
    }
   ],
   "source": [
    "distancesList"
   ]
  },
  {
   "cell_type": "code",
   "execution_count": null,
   "id": "0d2120e0",
   "metadata": {},
   "outputs": [],
   "source": []
  }
 ],
 "metadata": {
  "kernelspec": {
   "display_name": "Python 3 (ipykernel)",
   "language": "python",
   "name": "python3"
  },
  "language_info": {
   "codemirror_mode": {
    "name": "ipython",
    "version": 3
   },
   "file_extension": ".py",
   "mimetype": "text/x-python",
   "name": "python",
   "nbconvert_exporter": "python",
   "pygments_lexer": "ipython3",
   "version": "3.9.7"
  }
 },
 "nbformat": 4,
 "nbformat_minor": 5
}
