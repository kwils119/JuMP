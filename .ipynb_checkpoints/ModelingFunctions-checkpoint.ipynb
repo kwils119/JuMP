{
 "cells": [
  {
   "cell_type": "code",
   "execution_count": 1,
   "id": "ff5e302b",
   "metadata": {},
   "outputs": [],
   "source": [
    "class color:\n",
    "   PURPLE = '\\033[95m'\n",
    "   CYAN = '\\033[96m'\n",
    "   DARKCYAN = '\\033[36m'\n",
    "   BLUE = '\\033[94m'\n",
    "   GREEN = '\\033[92m'\n",
    "   YELLOW = '\\033[93m'\n",
    "   RED = '\\033[91m'\n",
    "   BOLD = '\\033[1m'\n",
    "   UNDERLINE = '\\033[4m'\n",
    "   END = '\\033[0m'\n",
    "\n",
    "# print(color.PURPLE + 'Hello World!' + color.END)"
   ]
  },
  {
   "cell_type": "code",
   "execution_count": 2,
   "id": "c6a0fde1",
   "metadata": {},
   "outputs": [
    {
     "name": "stdout",
     "output_type": "stream",
     "text": [
      "\u001b[4m\u001b[1mIMPORTED FUNCTIONS:\n",
      "\n",
      "\u001b[0m\n",
      "\u001b[1mtimes(start, stop): \u001b[0mcreates list of times to record data for input has all nodes and their edges\n",
      "\n",
      "\n",
      "\u001b[1medgeslist(input1): \u001b[0moutputs the edge labels as seen in the Labeled Map of Knoxville\n",
      "\n",
      "\n",
      "\u001b[1mtraffic(times, edges): \u001b[0mallows user to input traffic conditions and outputs as a list\n",
      "\n",
      "\n",
      "\u001b[1mtrafficTxt(times, edges, filename=\"TrafficConditions.txt\", accessmode=\"w+\"): \u001b[0msaves as file\n",
      "\n",
      "\n",
      "\u001b[1mtimeEachNode (distances, trafficConditions, timeOfDay, Day=\"Sun\"): \u001b[0moutputs a list of weights of each edge\n",
      "\n",
      "\n",
      "\u001b[1mtimeEachNodeTxt (distances, trafficConditions, timeOfDay, Day=\"Sun\", filename = \"NodeWeights.txt\", \n",
      "accessmode = \"w+\"): \u001b[0msaves as file\n",
      "\n",
      "\n",
      "\u001b[1mtimeEachTxt (input1, input2, distances, trafficConditions, timeOfDay, Day=\"Sun\", filename = \"EdgeWeights.txt\", \n",
      " accessmode = \"w+\"): \u001b[0msaves as file\n",
      "\n",
      "\n",
      "\u001b[1mtrafficFunction (trafficCond, Time, dist)\u001b[0moutputs the modeled traffic time, given the traffic condition, the ideal travel time, and the distance.\n",
      "\u001b[1monebigfunction(timeOfDay, Day, trafficConditions, filename=\"EdgeWeights.txt\", \n",
      " accessmode = \"w+\"): \u001b[0msaves as file\n",
      "\n",
      "\n",
      "\u001b[1mcolor Class: \u001b[0mpurple, cyan, darkcyan, blue, green, yellow, red, bold, underline, end\n"
     ]
    }
   ],
   "source": [
    "def explain():\n",
    "    print(color.UNDERLINE + color.BOLD + 'IMPORTED FUNCTIONS:\\n\\n' + color.END)\n",
    "    print(color.BOLD + 'times(start, stop): ' + color.END + 'creates list of times to record data for input has all nodes and their edges\\n\\n')\n",
    "    print(color.BOLD + 'edgeslist(input1): ' + color.END + 'outputs the edge labels as seen in the Labeled Map of Knoxville\\n\\n')\n",
    "    print(color.BOLD + 'traffic(times, edges): ' + color.END + 'allows user to input traffic conditions and outputs as a list\\n\\n')\n",
    "    print(color.BOLD + 'trafficTxt(times, edges, filename=\"TrafficConditions.txt\", accessmode=\"w+\"): ' + color.END + 'saves as file\\n\\n')\n",
    "    print(color.BOLD + 'timeEachNode (distances, trafficConditions, timeOfDay, Day=\"Sun\"): ' + color.END + 'outputs a list of weights of each edge\\n\\n')\n",
    "    print(color.BOLD + 'timeEachNodeTxt (distances, trafficConditions, timeOfDay, Day=\"Sun\", filename = \"NodeWeights.txt\", \\naccessmode = \"w+\"): ' + color.END + 'saves as file\\n\\n')\n",
    "    print(color.BOLD + 'timeEachTxt (input1, input2, distances, trafficConditions, timeOfDay, Day=\"Sun\", filename = \"EdgeWeights.txt\", \\n accessmode = \"w+\"): ' + color.END + 'saves as file\\n\\n')\n",
    "    print(color.BOLD + 'trafficFunction (trafficCond, Time, dist)' + color.END + 'outputs the modeled traffic time, given the traffic condition, the ideal travel time, and the distance.')\n",
    "    print(color.BOLD + 'onebigfunction(timeOfDay, Day, trafficConditions, filename=\"EdgeWeights.txt\", \\n accessmode = \"w+\"): ' + color.END + 'saves as file\\n\\n')\n",
    "    print(color.BOLD + 'color Class: ' + color.END + 'purple, cyan, darkcyan, blue, green, yellow, red, bold, underline, end')\n",
    "explain()"
   ]
  },
  {
   "cell_type": "code",
   "execution_count": 3,
   "id": "33efb467",
   "metadata": {},
   "outputs": [],
   "source": [
    "import math"
   ]
  },
  {
   "cell_type": "markdown",
   "id": "8b51da47",
   "metadata": {},
   "source": [
    "### Times Function\n",
    "##### creates a vector of the times I get data from traffic simulator. See example output. "
   ]
  },
  {
   "cell_type": "code",
   "execution_count": 4,
   "id": "8b4facb3",
   "metadata": {},
   "outputs": [],
   "source": [
    "def times(start, stop):\n",
    "    times = []\n",
    "    ran = int( 4*(stop - start)/100 + 1 )\n",
    "    for i in range(0, ran): \n",
    "        if (start % 100) == 60: \n",
    "            start += 40\n",
    "        times.append(start)\n",
    "        start += 15\n",
    "    return times"
   ]
  },
  {
   "cell_type": "code",
   "execution_count": 5,
   "id": "a4051e7c",
   "metadata": {},
   "outputs": [],
   "source": [
    "#creates vector of times from 6:00 am to 7:00 am \n",
    "extimes = times(600, 700)"
   ]
  },
  {
   "cell_type": "code",
   "execution_count": 6,
   "id": "e1eff19c",
   "metadata": {},
   "outputs": [],
   "source": [
    "# edges with the nodes\n",
    "input1 = [('1', 'A', 'B'), ('2', 'B', 'D'), ('3', 'B', 'E'), ('4', 'A', 'C'), ('5', 'D', 'M'), ('6', 'C', 'F'), ('7', 'F', 'G'), ('8', 'G', 'H'), ('9', 'H', 'I'), ('10', 'I', 'J'), ('11', 'I', 'K'), ('12', 'J', 'L'), ('13', 'D', 'K'), ('14', 'K', 'L'), ('15', 'L', 'M'), ('16', 'M', 'N'), ('17', 'E', 'N'), ('18', 'N', 'O'), ('19', 'D', 'F'), ('20', 'G', 'K')]\n",
    "\n",
    "# nodes with the edges\n",
    "input2 = [('A', '1', '4'), ('B', '1', '2', '3'), ('C', '4', '6'), ('D', '2', '5', '13', '19'), ('E', '3', '17'), ('F', '6', '7'), ('G', '7', '8'), ('H', '8', '9'), ('I', '9', '10', '11'), ('J', '10', '12'), ('K', '11', '13', '14', '20'), ('L', '12', '14', '15'), ('M', '5', '15', '16'), ('N', '16', '17', '18'), ('O', '18')]"
   ]
  },
  {
   "cell_type": "markdown",
   "id": "160048bc",
   "metadata": {},
   "source": [
    "### Edges Function\n",
    "##### given a list of nodes with each possible edge, prints out the edge labels as seen in the Labeled Map of Knoxville below"
   ]
  },
  {
   "cell_type": "code",
   "execution_count": 7,
   "id": "64cd1b46",
   "metadata": {},
   "outputs": [],
   "source": [
    "def edgeslist(input1):\n",
    "    out=[]\n",
    "    length = len(input1)\n",
    "    for i in range(0, 2*length):\n",
    "        out.append(input1[math.floor(i/2)][0]+input1[math.floor(i/2)][(i%2) + 1])\n",
    "    return out"
   ]
  },
  {
   "cell_type": "code",
   "execution_count": 8,
   "id": "06d30e3b",
   "metadata": {},
   "outputs": [],
   "source": [
    "def edgeslist2(input2):\n",
    "    out = []\n",
    "    for i in range(len(input2)):\n",
    "        for j in range(1, len(input2[i])):\n",
    "            out.append(input2[i][j]+input2[i][0])\n",
    "    return out"
   ]
  },
  {
   "cell_type": "code",
   "execution_count": 9,
   "id": "15f277c6",
   "metadata": {},
   "outputs": [
    {
     "data": {
      "text/plain": [
       "['1A',\n",
       " '4A',\n",
       " '1B',\n",
       " '2B',\n",
       " '3B',\n",
       " '4C',\n",
       " '6C',\n",
       " '2D',\n",
       " '5D',\n",
       " '13D',\n",
       " '19D',\n",
       " '3E',\n",
       " '17E',\n",
       " '6F',\n",
       " '7F',\n",
       " '7G',\n",
       " '8G',\n",
       " '8H',\n",
       " '9H',\n",
       " '9I',\n",
       " '10I',\n",
       " '11I',\n",
       " '10J',\n",
       " '12J',\n",
       " '11K',\n",
       " '13K',\n",
       " '14K',\n",
       " '20K',\n",
       " '12L',\n",
       " '14L',\n",
       " '15L',\n",
       " '5M',\n",
       " '15M',\n",
       " '16M',\n",
       " '16N',\n",
       " '17N',\n",
       " '18N',\n",
       " '18O']"
      ]
     },
     "execution_count": 9,
     "metadata": {},
     "output_type": "execute_result"
    }
   ],
   "source": [
    "edgeslist2(input2)"
   ]
  },
  {
   "cell_type": "code",
   "execution_count": 10,
   "id": "09182989",
   "metadata": {},
   "outputs": [
    {
     "data": {
      "text/plain": [
       "['1A', '1B', '2B', '2C', '3A', '3C']"
      ]
     },
     "execution_count": 10,
     "metadata": {},
     "output_type": "execute_result"
    }
   ],
   "source": [
    "exinput = [('1', 'A', 'B'), ('2', 'B', 'C'), ('3', 'A', 'C')]\n",
    "edgeslist(exinput)"
   ]
  },
  {
   "cell_type": "code",
   "execution_count": 1,
   "id": "015da538",
   "metadata": {},
   "outputs": [],
   "source": [
    "#![Hodges%20Neyland.jpg](attachment:Hodges%20Neyland.jpg)"
   ]
  },
  {
   "cell_type": "markdown",
   "id": "04097cf9",
   "metadata": {},
   "source": [
    "### Traffic Conditions Function\n",
    "##### given the times and edges from the previous 2 functions, allows the user to input the traffic conditions for each edge, and saves and outputs those conditions into a list. "
   ]
  },
  {
   "cell_type": "code",
   "execution_count": 11,
   "id": "acd33e30",
   "metadata": {},
   "outputs": [],
   "source": [
    "def traffic(times, edges):\n",
    "    output = []\n",
    "    for j in range(len(times)):\n",
    "        print(\"You are entering conditions for {0}. Or enter 'Q' to quit. Your progress will be saved and returned.\".format(times[j]))\n",
    "        for i in range(len(edges)):\n",
    "            condition = input(\"Enter the traffic condition for edge \"+ edges[i]+ \": \")\n",
    "            while condition != \"G\" and condition != \"O\" and condition!=\"R\" and condition!=\"B\" and condition!=\"NA\":\n",
    "                if condition == \"Q\":\n",
    "                    print(\"Quitting program.\\n\")\n",
    "                    print(\"Calculating weights...\")\n",
    "                    return output\n",
    "                print(\"Invalid input. Enter G for green, O for orange, R for red, B for brown, and NA if not available.\")\n",
    "                condition = input(\"\\n Enter the traffic condition for edge \" + edges[i]+ \": \")\n",
    "            element = [times[j], edges[i], condition]\n",
    "            output.append(element)\n",
    "    print(\"Calculating weights...\\n\")\n",
    "    return output"
   ]
  },
  {
   "cell_type": "code",
   "execution_count": 12,
   "id": "01e43af1",
   "metadata": {},
   "outputs": [],
   "source": [
    "def trafficTxt (times, edges, filename=\"TrafficConditions.txt\", accessmode=\"w+\"):\n",
    "    file = open(filename, accessmode)\n",
    "    for j in range(len(times)):\n",
    "        print(\"You are entering conditions for {0}. Or enter 'Q' to quit. Your progress will be saved.\".format(times[j]))\n",
    "        for i in range(len(edges)):\n",
    "            condition = input(\"Enter the traffic condition for edge \"+ edges[i]+ \": \")\n",
    "            condition = condition.upper()\n",
    "            while condition != \"G\" and condition != \"O\" and condition!=\"R\" and condition!=\"B\" and condition!=\"NA\":\n",
    "                if condition == \"Q\":\n",
    "                    print(\"Quitting program.\\n\")\n",
    "                    file.close()\n",
    "                    return\n",
    "                print(\"Invalid input. Enter G for green, O for orange, R for red, B for brown, and NA if not available.\")\n",
    "                condition = input(\"\\n Enter the traffic condition for edge \" + edges[i]+ \": \")\n",
    "            element = \"%s %s %s \\n\" %(times[j], edges[i], condition)\n",
    "            file.write(element)\n",
    "    file.close()  "
   ]
  },
  {
   "cell_type": "code",
   "execution_count": 2,
   "id": "51ba473c",
   "metadata": {},
   "outputs": [],
   "source": [
    "## list of all distances of edges in feet\n",
    "\n",
    "distancesDict = dict([('1A', 377), ('1B', 377), ('2B', 528), ('2D', 528), ('3B', 1056), ('3E', 1056), ('4A', 367), ('5D', 528), ('5M', 528), ('6C', 430), ('6F', 430), ('7F', 400), ('7G', 400), ('8G', 302), ('8H', 302), ('9H', 528), ('9I', 528), ('10I', 528), ('10J', 528), ('11I', 300), ('11K', 300), ('12J', 318), ('12L', 318), ('13K', 350), ('13D', 350), ('14K', 528), ('15L', 400), ('15M', 400), ('16M', 2112), ('16N', 2112), ('17E', 528), ('17N', 528), ('18N', 528), ('18O', 528), ('19D', 528), ('19F', 528), ('20K', 528)])\n",
    "distancesList = [('1A', 377), ('1B', 377), ('2B', 528), ('2D', 528), ('3B', 1056), ('3E', 1056), ('4A', 367), ('5D', 528), ('5M', 528), ('6C', 430), ('6F', 430), ('7F', 400), ('7G', 400), ('8G', 302), ('8H', 302), ('9H', 528), ('9I', 528), ('10I', 528), ('10J', 528), ('11I', 300), ('11K', 300), ('12J', 318), ('12L', 318), ('13K', 350), ('13D', 350), ('14K', 528), ('15L', 400), ('15M', 400), ('16M', 2112), ('16N', 2112), ('17E', 528), ('17N', 528), ('18N', 528), ('18O', 528), ('19D', 528), ('19F', 528), ('20K', 528)]"
   ]
  },
  {
   "cell_type": "code",
   "execution_count": 3,
   "id": "b023f124",
   "metadata": {},
   "outputs": [
    {
     "data": {
      "text/plain": [
       "('1A', 377)"
      ]
     },
     "execution_count": 3,
     "metadata": {},
     "output_type": "execute_result"
    }
   ],
   "source": [
    "distancesList[0]"
   ]
  },
  {
   "cell_type": "markdown",
   "id": "9f804060",
   "metadata": {},
   "source": [
    "### timeEachNode Function\n",
    "##### Outputs a list of edges and their travel times, given the information from the traffic function. "
   ]
  },
  {
   "cell_type": "code",
   "execution_count": 14,
   "id": "ff60ecd9",
   "metadata": {},
   "outputs": [],
   "source": [
    "def timeEachNode (distances, trafficConditions, timeOfDay, Day='Sun'): \n",
    "    length = len(distances)\n",
    "    travelTimes = []\n",
    "    test = []\n",
    "    ctr = 0 \n",
    "    for i in range(length):\n",
    "        edge = distances[i][0]\n",
    "        dist = distances[i][1]\n",
    "        mint = timeOfDay % 100\n",
    "        index = int (mint / 15 + ( (timeOfDay - mint) - 600 ) / 25 * 40 ) + ctr\n",
    "        thisCond = trafficConditions[index][2]\n",
    "        test.append([index, thisCond])\n",
    "        Time = dist / 44\n",
    "        traffic = trafficFunction(thisCond, Time)\n",
    "        thisTravelTime = '{0}'.format(Time + traffic)\n",
    "            # speed limit in Knoxville ~ 30 mph is 44 ft/s \n",
    "        travelTimes.append([edge, thisTravelTime])\n",
    "        ctr += 1\n",
    "    return(travelTimes)"
   ]
  },
  {
   "cell_type": "code",
   "execution_count": 15,
   "id": "4e783d92",
   "metadata": {},
   "outputs": [],
   "source": [
    "def timeEachNodeTxt (distances, trafficConditions, timeOfDay, Day='Sun', filename = \"NodeWeights.txt\", accessmode = \"w+\"):\n",
    "    length = len(distances)\n",
    "    ctr = 0 \n",
    "    file = open(filename, accessmode)\n",
    "    for i in range(length):\n",
    "        edge = distances[i][0]\n",
    "        dist = distances[i][1]\n",
    "        mint = timeOfDay % 100\n",
    "        index = int (mint / 15 + ( (timeOfDay - mint) - 600 ) / 25 * 40 ) + ctr\n",
    "        thisCond = trafficConditions[index][2]\n",
    "        Time = dist / 44\n",
    "            # speed limit in Knoxville ~ 30 mph is 44 ft/s\n",
    "        traffic = trafficFunction(thisCond, Time)\n",
    "        thisTravelTime = '{0}'.format(Time + traffic) \n",
    "        file.write(\"%s %s\\n\" %(edge, thisTravelTime))\n",
    "        ctr += 1"
   ]
  },
  {
   "cell_type": "code",
   "execution_count": 1,
   "id": "31789b77",
   "metadata": {},
   "outputs": [],
   "source": [
    "def timeEachTxt (input1, input2, distances, trafficConditions, timeOfDay, Day='Sun', filename=\"EdgeWeights.txt\", accessmode = \"w+\"):\n",
    "    length = len(distances)\n",
    "    file = open(filename, accessmode)\n",
    "    file.write(\"%s\\n\" %(len(input2)))\n",
    "    minute = timeOfDay % 100\n",
    "    index2 = int (minute / 15 + ( (timeOfDay - minute) - 600 ) / 25 * 40 )\n",
    "    for i in range(length):\n",
    "        edgen = distances[i][0]\n",
    "        j = 0\n",
    "        while edgen[j].isnumeric():\n",
    "            edge = edgen[:j+1]\n",
    "            j+=1\n",
    "        k = 1\n",
    "        node1 = edgen[k:] #from\n",
    "        if not(node1.isalpha()):\n",
    "            k+=1\n",
    "            node1 = edgen[k:]\n",
    "        index1 = int(edge) - 1\n",
    "        node2 = input1[index1][1] #to\n",
    "        if node2 == node1: \n",
    "            node2 = input1[index1][2]\n",
    "        dist = distances[i][1]\n",
    "        index2 += 1\n",
    "        thisCond = trafficConditions[index2][2]\n",
    "        Time = dist / 44\n",
    "            # speed limit in Knoxville ~ 30 mph is 44 ft/s\n",
    "        traffic = trafficFunction(thisCond, Time, dist)\n",
    "        thisTravelTime = '{0}'.format(traffic) \n",
    "        file.write(\"%s %s %s\\n\" %(node1, node2, thisTravelTime))"
   ]
  },
  {
   "cell_type": "code",
   "execution_count": 1,
   "id": "3f96d649",
   "metadata": {},
   "outputs": [],
   "source": [
    "def trafficFunction(trafficCond, Time, dist):\n",
    "    #note the times are in minutes. (need to fix) \n",
    "    def green(ideal, distance):\n",
    "    #the data has 2 distinct patterns when dist > 3000 ft vs\n",
    "    # dist < 3000 ft. \n",
    "    \n",
    "        if distance >= 3000: \n",
    "\n",
    "            actual = 2.4051*ideal**2 - 8.0389*ideal + 9.6386\n",
    "            #function from Excel Polynomial\n",
    "        else:\n",
    "            actual = 1.4489*ideal**2 - 4.4848*ideal + 5.2009\n",
    "            #function from Excel\n",
    "\n",
    "        return actual \n",
    "\n",
    "    def orange(ideal): \n",
    "    # the data has 2 distinct patterns when IdealTime > 1 vs\n",
    "    # IdealTime <= 1. \n",
    "    \n",
    "        if ideal > 1: \n",
    "        \n",
    "            actual = 7.1429*ideal**2 - 25.714*ideal + 25.571\n",
    "            # function from Excel Polynomial\n",
    "        else:\n",
    "            actual = 3\n",
    "        \n",
    "        return actual \n",
    "\n",
    "    def red(ideal):\n",
    "        \n",
    "        actual = 1.6967*ideal**2 - 1.2255*ideal + 2.1677\n",
    "        # from Excel Polynomial\n",
    "        return actual\n",
    "\n",
    "    def brown(ideal): \n",
    "        # have not found any situations with brown to collect data\n",
    "        # from it. So we will say actual = 7*Time\n",
    "        return 7*ideal\n",
    "\n",
    "\n",
    "    if trafficCond == 'G':\n",
    "        traffic = green(Time, dist)\n",
    "    elif trafficCond == 'O':\n",
    "        traffic = orange(Time)\n",
    "    elif trafficCond == 'R':\n",
    "        traffic = red(Time)\n",
    "    elif trafficCond == 'B':\n",
    "        traffic = brown(Time)\n",
    "    else: #trafficCond == 'NA'\n",
    "        traffic = Time\n",
    "    return traffic "
   ]
  },
  {
   "cell_type": "code",
   "execution_count": 2,
   "id": "5062760e",
   "metadata": {},
   "outputs": [],
   "source": [
    "def onebigfunction(timeOfDay, Day, trafficConditions, filename='EdgeWeights.txt', accessmode='w+'):\n",
    "    distances = [('1A', 377), ('1B', 377), ('2B', 528), ('2D', 528), ('3B', 1056), ('3E', 1056), ('4A', 367), ('5D', 528), ('5M', 528), ('6C', 430), ('6F', 430), ('7F', 400), ('7G', 400), ('8G', 302), ('8H', 302), ('9H', 528), ('9I', 528), ('10I', 528), ('10J', 528), ('11I', 300), ('11K', 300), ('12J', 318), ('12L', 318), ('13K', 350), ('13D', 350), ('14K', 528), ('15L', 400), ('15M', 400), ('16M', 2112), ('16N', 2112), ('17E', 528), ('17N', 528), ('18N', 528), ('18O', 528), ('19D', 528), ('19F', 528), ('20K', 528)]\n",
    "    input1 = [('1', 'A', 'B'), ('2', 'B', 'D'), ('3', 'B', 'E'), ('4', 'A', 'C'), ('5', 'D', 'M'), ('6', 'C', 'F'), ('7', 'F', 'G'), ('8', 'G', 'H'), ('9', 'H', 'I'), ('10', 'I', 'J'), ('11', 'I', 'K'), ('12', 'J', 'L'), ('13', 'D', 'K'), ('14', 'K', 'L'), ('15', 'L', 'M'), ('16', 'M', 'N'), ('17', 'E', 'N'), ('18', 'N', 'O'), ('19', 'D', 'F'), ('20', 'G', 'K')]\n",
    "    input2 = [('A', '1', '4'), ('B', '1', '2', '3'), ('C', '4', '6'), ('D', '2', '5', '13', '19'), ('E', '3', '17'), ('F', '6', '7'), ('G', '7', '8'), ('H', '8', '9'), ('I', '9', '10', '11'), ('J', '10', '12'), ('K', '11', '13', '14', '20'), ('L', '12', '14', '15'), ('M', '5', '15', '16'), ('N', '16', '17', '18'), ('O', '18')]\n",
    "    length = len(distances)\n",
    "    file = open(filename, accessmode)\n",
    "    file.write(\"%s\\n\" %(len(input2)))\n",
    "    minute = timeOfDay % 100\n",
    "    index2 = int (minute / 15 + ( (timeOfDay - minute) - 600 ) / 25 * 40 )\n",
    "    for i in range(length):\n",
    "        edgen = distances[i][0]\n",
    "        j = 0\n",
    "        while edgen[j].isnumeric():\n",
    "            edge = edgen[:j+1]\n",
    "            j+=1\n",
    "        k = 1\n",
    "        node1 = edgen[k:] #from\n",
    "        if not(node1.isalpha()):\n",
    "            k+=1\n",
    "            node1 = edgen[k:]\n",
    "        index1 = int(edge) - 1\n",
    "        node2 = input1[index1][1] #to\n",
    "        if node2 == node1: \n",
    "            node2 = input1[index1][2]\n",
    "        dist = distances[i][1]\n",
    "        index2 += 1\n",
    "        thisCond = trafficConditions[index2][2]\n",
    "        Time = dist / 44\n",
    "            # speed limit in Knoxville ~ 30 mph is 44 ft/s\n",
    "        traffic = trafficFunction(thisCond, Time)\n",
    "        thisTravelTime = '{0}'.format(traffic) \n",
    "        file.write(\"%s %s %s\\n\" %(node1, node2, thisTravelTime))\n",
    "        ## need to change function when we have more than one day. "
   ]
  }
 ],
 "metadata": {
  "kernelspec": {
   "display_name": "Python 3 (ipykernel)",
   "language": "python",
   "name": "python3"
  },
  "language_info": {
   "codemirror_mode": {
    "name": "ipython",
    "version": 3
   },
   "file_extension": ".py",
   "mimetype": "text/x-python",
   "name": "python",
   "nbconvert_exporter": "python",
   "pygments_lexer": "ipython3",
   "version": "3.9.13"
  }
 },
 "nbformat": 4,
 "nbformat_minor": 5
}
