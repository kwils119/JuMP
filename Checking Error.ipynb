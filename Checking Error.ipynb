{
 "cells": [
  {
   "cell_type": "code",
   "execution_count": 46,
   "id": "8547095d",
   "metadata": {},
   "outputs": [],
   "source": [
    "def timeEachTxt (input1, input2, distances, trafficConditions, timeOfDay, Day='Sun', filename=\"EdgeWeights.txt\", accessmode = \"w+\"):\n",
    "    length = len(distances)\n",
    "    file = open(filename, accessmode)\n",
    "    file.write(\"%s\\n\" %(len(input2)))\n",
    "    minute = timeOfDay % 100\n",
    "    index2 = int (minute / 15 + ( (timeOfDay - minute) - 600 ) / 25 * 40 )\n",
    "    for i in range(length):\n",
    "        edgen = distances[i][0]\n",
    "        j = 0\n",
    "        while edgen[j].isnumeric():\n",
    "            edge = edgen[:j+1]\n",
    "            j+=1\n",
    "        k = 1\n",
    "        node1 = edgen[k:] #from\n",
    "        if not(node1.isalpha()):\n",
    "            k+=1\n",
    "            node1 = edgen[k:]\n",
    "        index1 = int(edge) - 1\n",
    "        node2 = input1[index1][1] #to\n",
    "        if node2 == node1: \n",
    "            node2 = input1[index1][2]\n",
    "        dist = distances[i][1]\n",
    "        index2 += 1\n",
    "        thisCond = trafficConditions[index2][2]\n",
    "        Time = dist / 44\n",
    "            # speed limit in Knoxville ~ 30 mph is 44 ft/s\n",
    "        traffic = trafficFunction(thisCond, Time)\n",
    "        thisTravelTime = '{0}'.format(Time + traffic) \n",
    "        file.write(\"%s %s %s\\n\" %(node1, node2, thisTravelTime))"
   ]
  },
  {
   "cell_type": "code",
   "execution_count": 2,
   "id": "2f9697e2",
   "metadata": {},
   "outputs": [],
   "source": [
    "distancesList = [('1A', 377), ('1B', 377), ('2B', 528), ('2D', 528), ('3B', 1056), ('3E', 1056), ('4A', 367), ('5D', 528), ('5M', 528), ('6C', 430), ('6F', 430), ('7F', 400), ('7G', 400), ('8G', 302), ('8H', 302), ('9H', 528), ('9I', 528), ('10I', 528), ('10J', 528), ('11I', 300), ('11K', 300), ('12J', 318), ('12L', 318), ('13K', 350), ('13D', 350), ('14K', 528), ('15L', 400), ('15M', 400), ('16M', 2112), ('16N', 2112), ('17E', 528), ('17N', 528), ('18N', 528), ('18O', 528), ('19D', 528), ('19F', 528), ('20K', 528)]"
   ]
  },
  {
   "cell_type": "code",
   "execution_count": 43,
   "id": "2194e1dc",
   "metadata": {},
   "outputs": [
    {
     "name": "stdout",
     "output_type": "stream",
     "text": [
      "1A\n",
      "1 \n",
      "\n",
      "1B\n",
      "1 \n",
      "\n",
      "2B\n",
      "2 \n",
      "\n",
      "2D\n",
      "2 \n",
      "\n",
      "3B\n",
      "3 \n",
      "\n",
      "3E\n",
      "3 \n",
      "\n",
      "4A\n",
      "4 \n",
      "\n",
      "5D\n",
      "5 \n",
      "\n",
      "5M\n",
      "5 \n",
      "\n",
      "6C\n",
      "6 \n",
      "\n",
      "6F\n",
      "6 \n",
      "\n",
      "7F\n",
      "7 \n",
      "\n",
      "7G\n",
      "7 \n",
      "\n",
      "8G\n",
      "8 \n",
      "\n",
      "8H\n",
      "8 \n",
      "\n",
      "9H\n",
      "9 \n",
      "\n",
      "9I\n",
      "9 \n",
      "\n",
      "10I\n",
      "10 \n",
      "\n",
      "10J\n",
      "10 \n",
      "\n",
      "11I\n",
      "11 \n",
      "\n",
      "11K\n",
      "11 \n",
      "\n",
      "12J\n",
      "12 \n",
      "\n",
      "12L\n",
      "12 \n",
      "\n",
      "13K\n",
      "13 \n",
      "\n",
      "13D\n",
      "13 \n",
      "\n",
      "14K\n",
      "14 \n",
      "\n",
      "15L\n",
      "15 \n",
      "\n",
      "15M\n",
      "15 \n",
      "\n",
      "16M\n",
      "16 \n",
      "\n",
      "16N\n",
      "16 \n",
      "\n",
      "17E\n",
      "17 \n",
      "\n",
      "17N\n",
      "17 \n",
      "\n",
      "18N\n",
      "18 \n",
      "\n",
      "18O\n",
      "18 \n",
      "\n",
      "19D\n",
      "19 \n",
      "\n",
      "19F\n",
      "19 \n",
      "\n",
      "20K\n",
      "20 \n",
      "\n"
     ]
    }
   ],
   "source": [
    "for i in range(len(distancesList)):\n",
    "    edge = distancesList[i][0]\n",
    "    print(edge)\n",
    "    j = 0\n",
    "    num = edge[j]\n",
    "    while edge[j].isnumeric():\n",
    "        num = edge[:j+1]\n",
    "        j+=1\n",
    "    print(num, '\\n')"
   ]
  },
  {
   "cell_type": "code",
   "execution_count": 3,
   "id": "92352788",
   "metadata": {},
   "outputs": [],
   "source": [
    "# edges with the nodes\n",
    "input1 = [('1', 'A', 'B'), ('2', 'B', 'D'), ('3', 'B', 'E'), ('4', 'A', 'C'), ('5', 'D', 'M'), ('6', 'C', 'F'), ('7', 'F', 'G'), ('8', 'G', 'H'), ('9', 'H', 'I'), ('10', 'I', 'J'), ('11', 'I', 'K'), ('12', 'J', 'L'), ('13', 'D', 'K'), ('14', 'K', 'L'), ('15', 'L', 'M'), ('16', 'M', 'N'), ('17', 'E', 'N'), ('18', 'N', 'O'), ('19', 'D', 'F'), ('20', 'G', 'K')]\n",
    "\n",
    "# nodes with the edges\n",
    "input2 = [('A', '1', '4'), ('B', '1', '2', '3'), ('C', '4', '6'), ('D', '2', '5', '13', '19'), ('E', '3', '17'), ('F', '6', '7'), ('G', '7', '8'), ('H', '8', '9'), ('I', '9', '10', '11'), ('J', '10', '12'), ('K', '11', '13', '14', '20'), ('L', '12', '14', '15'), ('M', '5', '15', '16'), ('N', '16', '17', '18'), ('O', '18')]"
   ]
  },
  {
   "cell_type": "code",
   "execution_count": null,
   "id": "b8110906",
   "metadata": {},
   "outputs": [],
   "source": [
    "input1[]"
   ]
  },
  {
   "cell_type": "code",
   "execution_count": 15,
   "id": "7639e144",
   "metadata": {},
   "outputs": [
    {
     "data": {
      "text/plain": [
       "'NA'"
      ]
     },
     "execution_count": 15,
     "metadata": {},
     "output_type": "execute_result"
    }
   ],
   "source": [
    "filename = 'HodgesNeyland616.txt'\n",
    "data = np.loadtxt(filename, dtype=str)\n",
    "HN616 = data\n",
    "HN616[481][2]"
   ]
  },
  {
   "cell_type": "code",
   "execution_count": 5,
   "id": "491a9d57",
   "metadata": {},
   "outputs": [],
   "source": [
    "import numpy as np"
   ]
  },
  {
   "cell_type": "code",
   "execution_count": 10,
   "id": "baba884e",
   "metadata": {},
   "outputs": [
    {
     "data": {
      "text/plain": [
       "'A'"
      ]
     },
     "execution_count": 10,
     "metadata": {},
     "output_type": "execute_result"
    }
   ],
   "source": [
    "edge = '1A'\n",
    "edge[1:]"
   ]
  },
  {
   "cell_type": "code",
   "execution_count": 12,
   "id": "e83e7f1e",
   "metadata": {},
   "outputs": [
    {
     "data": {
      "text/plain": [
       "False"
      ]
     },
     "execution_count": 12,
     "metadata": {},
     "output_type": "execute_result"
    }
   ],
   "source": [
    "'Hello1'.isalpha()"
   ]
  },
  {
   "cell_type": "code",
   "execution_count": 13,
   "id": "8ffd69ae",
   "metadata": {},
   "outputs": [
    {
     "data": {
      "text/plain": [
       "0"
      ]
     },
     "execution_count": 13,
     "metadata": {},
     "output_type": "execute_result"
    }
   ],
   "source": [
    "ord('A')-65"
   ]
  },
  {
   "cell_type": "code",
   "execution_count": 48,
   "id": "ca2b3133",
   "metadata": {},
   "outputs": [],
   "source": [
    "timeEachTxt(input1, input2, distancesList, HN616, 930, 'Sun', '615Example2.txt')"
   ]
  },
  {
   "cell_type": "code",
   "execution_count": 18,
   "id": "9957360b",
   "metadata": {},
   "outputs": [],
   "source": [
    "def trafficFunction(trafficCond, Time):\n",
    "    if trafficCond == 'G':\n",
    "        traffic = 1.1*Time\n",
    "    elif trafficCond == 'O':\n",
    "        traffic = 1.25*Time\n",
    "    elif trafficCond == 'R':\n",
    "        traffic = 2*Time\n",
    "    elif trafficCond == 'B':\n",
    "        traffic = 3*Time\n",
    "    elif trafficCond == 'NA': \n",
    "        traffic = 0\n",
    "    return traffic \n",
    "# These are test numbers to see if the function works. \n",
    "# I will study the google maps times later to get more accurate functions"
   ]
  },
  {
   "cell_type": "code",
   "execution_count": null,
   "id": "0198764e",
   "metadata": {},
   "outputs": [],
   "source": []
  }
 ],
 "metadata": {
  "kernelspec": {
   "display_name": "Python 3 (ipykernel)",
   "language": "python",
   "name": "python3"
  },
  "language_info": {
   "codemirror_mode": {
    "name": "ipython",
    "version": 3
   },
   "file_extension": ".py",
   "mimetype": "text/x-python",
   "name": "python",
   "nbconvert_exporter": "python",
   "pygments_lexer": "ipython3",
   "version": "3.9.7"
  }
 },
 "nbformat": 4,
 "nbformat_minor": 5
}
