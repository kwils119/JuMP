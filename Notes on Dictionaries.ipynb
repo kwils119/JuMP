{
 "cells": [
  {
   "cell_type": "markdown",
   "id": "ad8ef647",
   "metadata": {},
   "source": [
    "## Notes on Dictionaries"
   ]
  },
  {
   "cell_type": "code",
   "execution_count": null,
   "id": "a4384b48",
   "metadata": {},
   "outputs": [],
   "source": []
  },
  {
   "cell_type": "code",
   "execution_count": null,
   "id": "edcc5ae4",
   "metadata": {},
   "outputs": [],
   "source": [
    "Dict600 = dict([('2B', 'Green'), ('2D', 'Orange'), ('3B', 'Orange'), ('3E', 'Orange'), ('5D', 'Green')])"
   ]
  },
  {
   "cell_type": "code",
   "execution_count": null,
   "id": "66ab7b8d",
   "metadata": {},
   "outputs": [],
   "source": []
  },
  {
   "cell_type": "code",
   "execution_count": null,
   "id": "8ea247ec",
   "metadata": {},
   "outputs": [],
   "source": [
    "dict.get(keyname) method returns the value. See example below. dict.get(value) does not work. \n",
    "\n",
    "if you say dict.get(keyname, value), it will return value if the key does not exist. "
   ]
  },
  {
   "cell_type": "code",
   "execution_count": 1,
   "id": "3bdfd16b",
   "metadata": {},
   "outputs": [],
   "source": [
    "car = dict([ ('brand', 'Ford'), ('model', 'Mustang'), ('year', 1964)])"
   ]
  },
  {
   "cell_type": "code",
   "execution_count": 10,
   "id": "92f7fa56",
   "metadata": {},
   "outputs": [
    {
     "data": {
      "text/plain": [
       "'Ford'"
      ]
     },
     "execution_count": 10,
     "metadata": {},
     "output_type": "execute_result"
    }
   ],
   "source": [
    "car.get('brand')"
   ]
  },
  {
   "cell_type": "code",
   "execution_count": 21,
   "id": "dbc8c3d4",
   "metadata": {},
   "outputs": [],
   "source": [
    "example = dict([ (('A', 'B'), 'hi') ])\n",
    "example1 = dict ([ ('hi', ('1', '2')) ])\n",
    "example2 = dict([ ('12', 'hi') ])"
   ]
  },
  {
   "cell_type": "code",
   "execution_count": 22,
   "id": "db08202b",
   "metadata": {},
   "outputs": [
    {
     "name": "stdout",
     "output_type": "stream",
     "text": [
      "1\n",
      "2\n"
     ]
    },
    {
     "data": {
      "text/plain": [
       "'hi'"
      ]
     },
     "execution_count": 22,
     "metadata": {},
     "output_type": "execute_result"
    }
   ],
   "source": [
    "input1 = input()\n",
    "input2 = input()\n",
    "#input3 = input1+input2\n",
    "example2.get(input1+input2)"
   ]
  },
  {
   "cell_type": "code",
   "execution_count": null,
   "id": "a21e8c3c",
   "metadata": {},
   "outputs": [],
   "source": []
  }
 ],
 "metadata": {
  "kernelspec": {
   "display_name": "Python 3 (ipykernel)",
   "language": "python",
   "name": "python3"
  },
  "language_info": {
   "codemirror_mode": {
    "name": "ipython",
    "version": 3
   },
   "file_extension": ".py",
   "mimetype": "text/x-python",
   "name": "python",
   "nbconvert_exporter": "python",
   "pygments_lexer": "ipython3",
   "version": "3.9.12"
  }
 },
 "nbformat": 4,
 "nbformat_minor": 5
}
