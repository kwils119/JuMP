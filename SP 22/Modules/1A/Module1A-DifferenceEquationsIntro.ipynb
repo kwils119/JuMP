{
 "cells": [
  {
   "cell_type": "markdown",
   "id": "cfa06882",
   "metadata": {},
   "source": [
    "# Module 1A - Difference Equations"
   ]
  },
  {
   "cell_type": "markdown",
   "id": "6f844d1b",
   "metadata": {},
   "source": [
    "Before we get into any modeling, it is important to understand how to effectively graph quantities of interest -- these could be different types of data or the outputs of functions, for exampls. Using plot functions in Python will allow us to visualize any patterns in these quantities, and potentially, gain a better understanding of the information they contain. \n",
    "\n",
    "If we want to plot these quantities, then we must import certain Python modules, like matplotlib (https://matplotlib.org), as seen in the following cell.\n",
    "\n",
    "To create some more interesting examples, we will also find it useful to import the numpy module (more on that later).\n",
    "\n",
    "What is a module? https://www.geeksforgeeks.org/python-modules/"
   ]
  },
  {
   "cell_type": "code",
   "execution_count": null,
   "id": "c66396d0",
   "metadata": {},
   "outputs": [],
   "source": [
    "import matplotlib as mp\n",
    "import matplotlib.pyplot as plt\n",
    "\n",
    "import numpy as np"
   ]
  },
  {
   "cell_type": "markdown",
   "id": "d4a9b779",
   "metadata": {},
   "source": [
    "# Section 1.1: Plotting with Python"
   ]
  },
  {
   "cell_type": "markdown",
   "id": "85f61e35",
   "metadata": {},
   "source": [
    "Here we start with a very basic example just graphing the two arrays x and y. You can customize your plot by changing the label and the header of the plot. Additionally, you can run \"help(plt.plot)\" in python to see all additional options available with this function. "
   ]
  },
  {
   "cell_type": "code",
   "execution_count": null,
   "id": "809026a7",
   "metadata": {},
   "outputs": [],
   "source": [
    "x = [1, 2, 3]\n",
    "y = [1, 2, 3]\n",
    "\n",
    "plt.plot(x, y)\n",
    "\n",
    "plt.xlabel('x axis')\n",
    "plt.ylabel('y axis')\n",
    "\n",
    "plt.title('example 1')\n",
    "\n",
    "plt.show()"
   ]
  },
  {
   "cell_type": "markdown",
   "id": "70dfae03",
   "metadata": {},
   "source": [
    "When wanting to add multiple functions to a graph, you can simply use the plt.plot() function again in the same cell to add multiple lines on the graph. \n",
    "1. Try adding a second line with x2 = [1, 2, 3] and y2 = [.5, 1, 1.5]. When having multiple functions, we want to use python to help differentiate our lines. \n",
    "\n",
    "2. Use the format plt.plot(x2, y2, c='color', label='label'). \n",
    "\n",
    "3. In addition to this, suppose we want the (x,y) to be graphed in o's instead of a line. Explore this and other possible methods of graphing data using an additional marker = 'marker' command into plt.plot.\n",
    "\n",
    "These example lines are very simple but will get more complex as we encounter more interesting examples. "
   ]
  },
  {
   "cell_type": "code",
   "execution_count": null,
   "id": "e27857f7",
   "metadata": {},
   "outputs": [],
   "source": [
    "#### FILL IN #####\n",
    "\n",
    "x = [1, 2, 3]\n",
    "y = [1, 2, 3]\n",
    "\n",
    "x2 = ####\n",
    "y2 = ####\n",
    "\n",
    "plt.plot(x, y)\n",
    "\n",
    "plt.xlabel('x axis')\n",
    "plt.ylabel('y axis')\n",
    "\n",
    "plt.title('example 1')\n",
    "\n",
    "plt.show()"
   ]
  },
  {
   "cell_type": "markdown",
   "id": "271247bf",
   "metadata": {},
   "source": [
    "# Section 1.2: Geometric Population Growth"
   ]
  },
  {
   "cell_type": "markdown",
   "id": "f5abd7e2",
   "metadata": {},
   "source": [
    "When we begin modeling Math equations the first type we want to look at is the discrete time or difference equation. These equations are based on time steps $n = 1, 2, 3, \\ldots$ and are used to find the change in the function from one step, $n$, to the next step, $n + 1$. The first model we will take a look at is a basic population model given by $x(n+1) = rx(n)$. Before graphing this function, we must define it as a function in python. This first example has been done for you. "
   ]
  },
  {
   "cell_type": "code",
   "execution_count": null,
   "id": "deb6f376",
   "metadata": {},
   "outputs": [],
   "source": [
    "def popgrowth(r, x0, n):\n",
    "\n",
    "    X = x0 * (r)**n\n",
    "    \n",
    "    return np.array([X])\n"
   ]
  },
  {
   "cell_type": "markdown",
   "id": "c6ce5e5b",
   "metadata": {},
   "source": [
    "The function above is the general solution for $x(n+1) = rx(n)$. Using this function, we can compute the population size at whatever timestep $n$ or series of times $n$ we desire for a particular population starting with size $x0$, and population growth rate, $r$. Now we can define our parameter values and run the function."
   ]
  },
  {
   "cell_type": "code",
   "execution_count": null,
   "id": "f44fa839",
   "metadata": {},
   "outputs": [],
   "source": [
    "r = 1.03\n",
    "x0 = 100\n",
    "#n = 3\n",
    "n = np.linspace(0, 50, 51)"
   ]
  },
  {
   "cell_type": "markdown",
   "id": "42afe713",
   "metadata": {},
   "source": [
    "# Question:  What does np.linspace do?"
   ]
  },
  {
   "cell_type": "code",
   "execution_count": null,
   "id": "213a23ae",
   "metadata": {},
   "outputs": [],
   "source": [
    "X = popgrowth(r, x0, n)\n",
    "X"
   ]
  },
  {
   "cell_type": "markdown",
   "id": "06cfbe8a",
   "metadata": {},
   "source": [
    "# Question: Discuss what happenned in the previous cell?"
   ]
  },
  {
   "cell_type": "markdown",
   "id": "079ae2e2",
   "metadata": {},
   "source": [
    "Now that we have evaluated our function over a series of time steps we can graph that function to see how the population behaves over time. \n",
    "1. Use the inital plot cell above as a general format and plot the population growth over time. Be sure to include appropriate label names as well."
   ]
  },
  {
   "cell_type": "code",
   "execution_count": null,
   "id": "4eac1b15",
   "metadata": {},
   "outputs": [],
   "source": [
    "#### FILL IN #####\n",
    "#Begin by calling plt.plot"
   ]
  },
  {
   "cell_type": "markdown",
   "id": "d4cb87e4",
   "metadata": {},
   "source": [
    "So we have successfully plotted our growth population. \n",
    "1. For this model, think about what the growth factor, $r$, means. What does the current value for $r$ suggest that the population is doing? \n",
    "2. Play around with the value for $r$ and see how certain changes impact our sample population. Do your graphs match what you expected would happen?\n",
    "3. Once you have graphed a couple different $r$ values, consider how you would graph the output corresponding to multiple different $r$ values in the same plot. Attempt to do that in the cell below. Remember to use the arguments within the plt.plot function to identify each value of $r$ used in the associated plot. "
   ]
  },
  {
   "cell_type": "code",
   "execution_count": null,
   "id": "4c657607",
   "metadata": {},
   "outputs": [],
   "source": [
    "#### FILL IN #####\n",
    "## Run this function with at least 3 different r values and plot them in the same graph to compare population growth. "
   ]
  },
  {
   "cell_type": "markdown",
   "id": "6589f5e5",
   "metadata": {},
   "source": [
    "# Section 1.3: Logistic Population Growth"
   ]
  },
  {
   "cell_type": "markdown",
   "id": "1fce63a3",
   "metadata": {},
   "source": [
    "While this may be beneficial for viewing population dynamics, a population growing at this rate may not be realistic over a long period of time. We consider another population  model, a logistic population model, which is very similar to our initial model. This model is generally shown in the form \n",
    "\n",
    "$N(t+1) =  N(t)*r (1- N(t)/K)$. \n",
    "\n",
    "With a logistic model, the main difference is the addition of the carrying capacity term, $K$. We will begin by defining the function below. Just as with the previous model, the first example has been done for you. "
   ]
  },
  {
   "cell_type": "code",
   "execution_count": null,
   "id": "1faa6b00",
   "metadata": {},
   "outputs": [],
   "source": [
    "def loggrowth(r,x0,n,K): \n",
    "    \n",
    "    X = (K * x0 * np.exp(r * n))/(K + x0 * ((np.exp(r*n))-1))\n",
    "    return np.array([X])"
   ]
  },
  {
   "cell_type": "code",
   "execution_count": null,
   "id": "5200111b",
   "metadata": {},
   "outputs": [],
   "source": [
    "r = 1.03\n",
    "x0 = 100\n",
    "n = np.linspace(0, 50, 51)\n",
    "K = 200"
   ]
  },
  {
   "cell_type": "code",
   "execution_count": null,
   "id": "188d4ab0",
   "metadata": {},
   "outputs": [],
   "source": [
    "loggrowth(r, x0, n, K)\n",
    "X\n"
   ]
  },
  {
   "cell_type": "markdown",
   "id": "8e878cce",
   "metadata": {},
   "source": [
    "Now that you can see how this function works we want to visualize our model. \n",
    "1. Attempt to plot this code to see how this model differs from our previous one. \n",
    "2. After you have finished plotting this, experiment with different K values to see how this value impacts the population.\n",
    "3. Again, plot these different values of K on the same graph to visualize how it impacts a population."
   ]
  },
  {
   "cell_type": "code",
   "execution_count": null,
   "id": "d740a679",
   "metadata": {},
   "outputs": [],
   "source": [
    "##Implement plt.plot to plot the values of our loggrowth function. \n",
    "##Change the values of K and then graph them as well. "
   ]
  },
  {
   "cell_type": "markdown",
   "id": "e838763f",
   "metadata": {},
   "source": [
    "# Section 1.4: Learning For Loops"
   ]
  },
  {
   "cell_type": "markdown",
   "id": "4362ce2f",
   "metadata": {},
   "source": [
    "Many of the models that we use will use are run in discrete time. Thus, these models are iterated over time steps $t$ and will provide values necessary in the next iteration of the equation. For our first two population models, we built functions using the closed form solution which does not require the previous $N(t)$ to find $N(t+1)$.  However, it won't always be possible to find such a closed-form solution.  Instead, we can take advantage of the fact that a computer can make many many computations in a very short amount of time, to calculate the population size at time zero, then time one, time two, and so on, with each calculation using the output of the previous calculation.\n",
    "\n",
    "To do this, we must first learn how to implement a for-loop in python. For our basic for-loops we will be running the code \"for x in range(y).\" Run the code below and see how the value for x is printed multiple times. "
   ]
  },
  {
   "cell_type": "code",
   "execution_count": null,
   "id": "8d9f7f4b",
   "metadata": {},
   "outputs": [],
   "source": [
    "for x in range(11):\n",
    "    print(x)"
   ]
  },
  {
   "cell_type": "markdown",
   "id": "c447b5bb",
   "metadata": {},
   "source": [
    "Now, suppose we wanted to build a simple function $y = 12x - 3$ and we only want the values of x in (0, 20).\n",
    "1. Implement this code in python. \n",
    "2. Remember to print your values to ensure they are correct. "
   ]
  },
  {
   "cell_type": "code",
   "execution_count": null,
   "id": "1895b91e",
   "metadata": {},
   "outputs": [],
   "source": [
    "for x in range(y):\n",
    "    #### FILL IN #####\n",
    "    "
   ]
  },
  {
   "cell_type": "markdown",
   "id": "b6538843",
   "metadata": {},
   "source": [
    "Remember we can also store these values into an array and use them in the next iteration of our for loop. Think about how this might be useful for some of the previous models we have encountered. \n",
    "1. Run the code below to see how the values within the are stored in the vector Z\n",
    "2. Create a for loop to model the exponential growth population model.\n",
    "3. Create a for loop to model the logistic growth population model. "
   ]
  },
  {
   "cell_type": "markdown",
   "id": "743d86d6",
   "metadata": {},
   "source": [
    "# How many pairs of rabbits?\n",
    "Consider the problem you brainstormed about the pairs of rabbits.  Here are the assumptions:\n",
    "\n",
    "1. a single newly born pair of rabbits (one male, one female) are put in a field;\n",
    "2. rabbits are able to mate at the age of one month so that at the end of its second month a female can produce another pair of rabbits;\n",
    "3. rabbits never die and a mating pair always produces one new pair (one male, one female) every month from the second month on.\n",
    "\n",
    "Try to implement the resulting difference equation model in the cells below.  Plot the number of pairs of rabbits in each month over the period of one year."
   ]
  },
  {
   "cell_type": "code",
   "execution_count": null,
   "id": "9f6dc53a",
   "metadata": {},
   "outputs": [],
   "source": []
  }
 ],
 "metadata": {
  "kernelspec": {
   "display_name": "Python 3 (ipykernel)",
   "language": "python",
   "name": "python3"
  },
  "language_info": {
   "codemirror_mode": {
    "name": "ipython",
    "version": 3
   },
   "file_extension": ".py",
   "mimetype": "text/x-python",
   "name": "python",
   "nbconvert_exporter": "python",
   "pygments_lexer": "ipython3",
   "version": "3.9.12"
  }
 },
 "nbformat": 4,
 "nbformat_minor": 5
}
