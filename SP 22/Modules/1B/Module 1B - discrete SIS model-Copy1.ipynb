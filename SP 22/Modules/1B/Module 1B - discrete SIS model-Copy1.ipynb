{
 "cells": [
  {
   "cell_type": "markdown",
   "id": "50dbed40",
   "metadata": {},
   "source": [
    "# Module 1B\n",
    "# The discrete SIS model for infectious disease.\n",
    "\n",
    "In order for disease to spread, you need at least two groups of individuals: susceptible and infectious.\n",
    "\n",
    "- Susceptible (S): doesn't harbor the pathogen and is capable of being infected.\n",
    "- Infectious (I): harbors the pathogen and is capable of transmitting it to others.\n",
    "- (( R - recovered/removed as in SIR model. ))\n",
    "- (( For now, only these 2 variables ))\n",
    "\n",
    "Let's assume for now that our individuals are people, but they need not be.  They could be plants or non-human animals as well! How do new infections arise?  The susceptible individual must come into contact with the pathogen in some way, but there are various possible modes of transmission, including the categories of direct and indirect transmission.  See for example the CDC definitions here: https://www.cdc.gov/csels/dsepd/ss1978/lesson1/section10.html\n",
    "\n",
    "We will consider here a directly transmitted disease that spreads through droplets.  Some additional assumptions:\n",
    "\n",
    "1. No immunity is gained by having been infected. This means I-individuals return to S when they recover. \n",
    "\n",
    "((Why it's called SIS\n",
    "\n",
    "S to I is \"new infection event\" \n",
    "I to S is \"recovery events\" )) \n",
    "\n",
    "\n",
    "2. The only demography is births and natural deaths (no immigration or emmigration)\n",
    "3. The disease does not affect population demographics (i.e. disease is non-fatal, and disease doesn't impact births).\n",
    "4. All individuals are born susceptible.\n",
    "\n",
    "We are interested in tracking the number of S and I individuals over time.  In particular, we will track the number of individuals at discrete points in time $t_n$, $n=0,1,2,\\ldots$, which we can refer to as 'generations'.\n",
    "\n",
    "On paper, try to come up with your own model for this process using the idea of differnce equations.  This should look something like:\n",
    "\n",
    "\\begin{align}\n",
    "S_{n+1} = f(I_n, S_n, N_n)\\\\\n",
    "I_{n+1} = g(I_n, S_n, N_n)\n",
    "\\end{align}\n",
    "\n",
    "(( You need S and I to get an N ! )) \n",
    "\n",
    "where $N_n = S_n + I_n$ is the total population size.\n",
    "\n",
    "Note: Here, I'm using the notation that X_n = X(t_n).\n",
    "\n",
    "((Assume there is no immigration/emmigration in the community, but allow for natural births and natural deaths. )) \n",
    "\n",
    "((Once you enter I, you are immediately infectious. And once you are recovered, you go immediately back into S. ))\n",
    "\n",
    "You can approach this task by first trying to describe your equation in words?  What happens when someone is born? dies? becomes infected? recovered?  Where should those events go in your equations?"
   ]
  },
  {
   "cell_type": "markdown",
   "id": "cdc069ac",
   "metadata": {},
   "source": [
    "# Brainstorming for equation: \n",
    "\n",
    "\n",
    "\n",
    "N(0) = S(0) + I(0)\n",
    "S = N - I \n",
    "\n",
    "S = susceptible \n",
    "I = infectious\n",
    "N = total population = S + I \n",
    "N over a set of time: \n",
    "N = N(0) + births (since time 0) - deaths (since time 0)\n",
    "\n",
    "S over a set of time: \n",
    "S = S(0) + recovered - infected \n",
    "\n",
    "I over a set of time: \n",
    "I = I(0) - recovered + infected\n",
    "\n",
    "An equation for the susceptible population\n",
    "S = N - I \n",
    "S = (N(0) + births - deaths) - (I(0) - recovered + infected)\n",
    "\n",
    "Maybe we can use a known average for births and deaths. Or a known birth rate - death rate. \n",
    "\n",
    "birth rate = $b$\n",
    "death rate = $d$\n",
    "\n",
    "You could have a birth rate dependent on the births from 20 years ago (this pop. is probably giving birth now). \n",
    "(a function for the birth rate)\n",
    "\n",
    "$b(N_{n-20})$\n",
    "\n",
    "or \n",
    "$b(N_0, N_1, N_2, \\dots, N_n)$\n",
    "\n",
    "So... you could factor in age, economy, or other categories, that would influence birth rate. \n",
    "\n",
    "Common assumption... births = deaths. \n",
    "\n",
    "$ N = N(t_{n-1}) + b*N(t_{n-1}) - d*N(t_{n-1})$\n",
    "\n",
    "Maybe we should think about infection rate and recovery rate. How long are people staying in the susceptible/infectious category? \n",
    "\n",
    "Maybe we'll have an 'r' like in the last module with population growth. \n",
    "\n",
    "$r_i$ is the % of the population that has moved to the other group at a certain time. \n",
    "\n",
    "$I = r_1(N)$ , a certain amount of the susceptible pop. will be infected , at a set of time after recovery. \n",
    "$S = r_2(I)$ , a certain amount of the infectious people will be recovered, at a set of time after infection.\n",
    "\n",
    "$N = S + I$\n",
    "\n",
    "$N = r_2(I) + r_1(N)$"
   ]
  },
  {
   "cell_type": "markdown",
   "id": "e9f2481f",
   "metadata": {},
   "source": [
    "# DON'T LOOK at the equations below before you give the previous exercise serious thought :)"
   ]
  },
  {
   "cell_type": "code",
   "execution_count": null,
   "id": "061a67aa",
   "metadata": {},
   "outputs": [],
   "source": []
  },
  {
   "cell_type": "code",
   "execution_count": null,
   "id": "979f2dc4",
   "metadata": {},
   "outputs": [],
   "source": []
  },
  {
   "cell_type": "code",
   "execution_count": null,
   "id": "d0f61ad7",
   "metadata": {},
   "outputs": [],
   "source": []
  },
  {
   "cell_type": "code",
   "execution_count": null,
   "id": "119e2c9d",
   "metadata": {},
   "outputs": [],
   "source": []
  },
  {
   "cell_type": "code",
   "execution_count": null,
   "id": "47ff4c29",
   "metadata": {},
   "outputs": [],
   "source": []
  },
  {
   "cell_type": "markdown",
   "id": "be504288",
   "metadata": {},
   "source": [
    "# No peaking!"
   ]
  },
  {
   "cell_type": "code",
   "execution_count": null,
   "id": "477b4130",
   "metadata": {},
   "outputs": [],
   "source": []
  },
  {
   "cell_type": "code",
   "execution_count": null,
   "id": "468f661b",
   "metadata": {},
   "outputs": [],
   "source": []
  },
  {
   "cell_type": "code",
   "execution_count": null,
   "id": "26444e8b",
   "metadata": {},
   "outputs": [],
   "source": []
  },
  {
   "cell_type": "code",
   "execution_count": null,
   "id": "b4659d22",
   "metadata": {},
   "outputs": [],
   "source": []
  },
  {
   "cell_type": "markdown",
   "id": "122a3f58",
   "metadata": {},
   "source": [
    "# OK...now you can look...\n",
    "\n",
    "There are different ways that we could formulate this model.  Here, I will introduce one published by Castillo-Chavez and Yakuba in 2001 (https://ecommons.cornell.edu/bitstream/handle/1813/32131/BU-1539-M.pdf;sequence=1).  Let's first introduce some notation for our model parameters (the inputs to the model).  One thing that is important to keep in mind is the order of events.  The sequence of events that we will consider here is as follow:\n",
    "\n",
    "1. Determine how many S and I individuals at $t_n$ survive to generation $t_{n+1}$.\n",
    "2. Of those surviving S individuals, determine how many become infected.  Of those surviving I individuals, how many recover?\n",
    "\n",
    "$\\gamma$ - probability of NOT dying in each generation.\n",
    "\n",
    "$\\sigma$ - probability of NOT recovering in each generation.\n",
    "\n",
    "$G(x)$ - probability that an S individual does NOT become infected in each generation.  This should be a function of the disease prevalence, that is, $x = \\frac{I_n}{N_n}$.\n",
    "\n",
    "Using this notation, see if you can derive the corresponding model.\n",
    "\n",
    "Note: anything that is a probability should be between 0 and 1."
   ]
  },
  {
   "cell_type": "markdown",
   "id": "ecaadd37",
   "metadata": {},
   "source": [
    "Note: Read Castillo-Chavez and Yakuba. \n",
    "\n"
   ]
  },
  {
   "cell_type": "markdown",
   "id": "c6779955",
   "metadata": {},
   "source": []
  },
  {
   "cell_type": "markdown",
   "id": "7916562a",
   "metadata": {},
   "source": []
  },
  {
   "cell_type": "markdown",
   "id": "3a2f20e2",
   "metadata": {},
   "source": [
    "## Derivation of the model below: "
   ]
  },
  {
   "cell_type": "markdown",
   "id": "efc456e1",
   "metadata": {},
   "source": [
    "$S_{n+1} = f(S_n, I_n, N_n) $\n",
    "\n",
    "$I_{n+1} = g(S_n, I_n, N_n) $\n",
    "\n",
    "$\\gamma$ = probability of NOT dying in 1 time step. (prob of surviving)\n",
    "\n",
    "$\\sigma$ = probability of NOT recovering in 1 time step. \n",
    "\n",
    "if time int = 10 weeks, which is a long time, you must make decisions. \n",
    "\n",
    "sequence of events:\n",
    "(1) how many survive?\n",
    "(2) of those susceptible that survive, how many become infected? \n",
    "(3) of those infected that survive, how many recover? \n",
    "\n",
    "$ f(N) $ = # births in 1 timestep (could depend on current population (linear, log (if the number of births level off as N gets large), exponential) or be constant(does not depend on N))\n",
    "\n",
    "$S_{n+1} =  f(N_n) + \\gamma*S_n $\n",
    "account for births and survival from last time step\n",
    "assumption that all individuals are born susceptible\n",
    "\n",
    "$I_{n+1} = \\gamma*I_n + $\n",
    "account for infected people surviving, \n",
    "\n",
    "\n",
    "new infections = $\\gamma * S_n$ * prob of getting infected\n",
    "\n",
    "= $\\gamma * S_n * (1 - G(I_n/N_n))$\n",
    "\n",
    "recoveries = $ \\gamma * I_n$ * prob of recovering\n",
    "= $\\gamma * I_n * (1-\\sigma) $ \n",
    "\n",
    "Put the pieces together\n",
    "\n",
    "$S_{n+1} = f(N_n) + \\gamma * S_n - \\gamma*S_n(1-G) + \\gamma(1-\\sigma) * I_n $\n",
    "\n",
    "$I_{n+1} = \\gamma*I_n + \\gamma*(1-G)*S_n - \\gamma*(1-\\sigma)*I_n $\n",
    "\n",
    "cancel some terms you get the following system of equations. \n",
    "\n",
    "\n",
    "\\begin{align}\n",
    "S_{n+1} &= f(N_n) + \\gamma S_n + (1-\\sigma)\\gamma I_n - \\gamma S_n(1-G(I_n/N_n)) \\\\\n",
    "I_{n+1} &= \\gamma I_n - (1-\\sigma)\\gamma I_n + \\gamma S_n (1 - G(I_n/N_n))\n",
    "\\end{align}"
   ]
  },
  {
   "cell_type": "code",
   "execution_count": null,
   "id": "9dc218b7",
   "metadata": {},
   "outputs": [],
   "source": []
  },
  {
   "cell_type": "markdown",
   "id": "e6734b98",
   "metadata": {},
   "source": [
    "You should end up with the following system of equations:\n",
    "\n",
    "\\begin{align}\n",
    "S_{n+1} &= f(N_n) + \\gamma S_n + (1-\\sigma)\\gamma I_n - \\gamma S_n(1-G(I_n/N_n)) \\\\\n",
    "I_{n+1} &= \\gamma I_n - (1-\\sigma)\\gamma I_n + \\gamma S_n (1 - G(I_n/N_n))\n",
    "\\end{align}\n",
    "\n",
    "Write some code to compute the solution over a series of time points and plot the trajectories over time.  You get to choose the values for the initial conditions, parameters, the time points, and the time span."
   ]
  },
  {
   "cell_type": "code",
   "execution_count": 9,
   "id": "447243e3",
   "metadata": {},
   "outputs": [],
   "source": [
    "# we choose the values for the initial conditions, parameters, time points, time span\n",
    "\n",
    "S = 0 # initial value of susceptible \n",
    "I = 10 # initial value of infected \n",
    "\n",
    "N = S + I # total pop = susceptible + infected \n",
    "\n",
    "# f = number of births\n",
    "def f(N): \n",
    "    return 1.7*N  # there are 1.7 births per individual (birth rate in the US in 2019)\n",
    "\n",
    "# G(x) = probability that an S individual does NOT become infected in each generation. \n",
    "def G(I, N):\n",
    "    x = I/N #function of disease prevalence \n",
    "    return (1 - x) # the probability of NOT getting infected is 1 - (probability of getting infected)\n",
    "\n",
    "# what should happen to G(x) when the input is small vs large? \n",
    "    # if the input is small... this means the ratio of infected to total pop is small... \n",
    "    # meaning the likelihood of getting sick is small\n",
    "\n",
    "    # if the input is large... this means the ratio of infected to total pop is large...\n",
    "    # meaning the likelihood of getting sick is large\n",
    "\n",
    "gamma = 0.9 #probability of *not* dying in each generation\n",
    "sigma = 0.2 #probability of *not* recovering in each generation"
   ]
  },
  {
   "cell_type": "code",
   "execution_count": 12,
   "id": "0901b238",
   "metadata": {},
   "outputs": [],
   "source": [
    "S = f(N) + gamma*S - gamma*S*(1- G(I,N)) + (1-sigma)*gamma*I\n",
    "I = gamma*I - (1-sigma)*gamma*I + gamma*S*(1-G(I,N))\n",
    "\n",
    "## now to turn this into a function with inputs S,I, gamma, sigma"
   ]
  },
  {
   "cell_type": "code",
   "execution_count": 44,
   "id": "af26b4a1",
   "metadata": {},
   "outputs": [],
   "source": [
    "def f(N): \n",
    "    return .004*N\n",
    "def G(I, N):\n",
    "    x = I/N \n",
    "    return (x)"
   ]
  },
  {
   "cell_type": "code",
   "execution_count": 45,
   "id": "a691483f",
   "metadata": {},
   "outputs": [],
   "source": [
    "def CCY(S, I, gamma = 0.9, sigma = 0.2): # a gamma and sigma are given but can also be redefined\n",
    "    N = S + I\n",
    "    S = f(N) + gamma*S - gamma*S*(1-G(I,N)) + (1-sigma)*gamma*I\n",
    "    I = gamma*I - (1-sigma)*gamma*I + gamma*S*(1-G(I,N))\n",
    "    return S, I, S+I"
   ]
  },
  {
   "cell_type": "code",
   "execution_count": 46,
   "id": "50a42ada",
   "metadata": {},
   "outputs": [],
   "source": [
    "# try to define a new CCY that depends on birth rate \n",
    "def CCY_b(S,I, gamma=0.9, sigma =0.2, br = 0.004):\n",
    "    N = S + I\n",
    "    S = br*N + gamma*S - gamma*S*(1-G(I,N)) + (1-sigma)*gamma*I\n",
    "    I = gamma*I - (1-sigma)*gamma*I + gamma*S*(1-G(I,N))\n",
    "    return S, I, S+I"
   ]
  },
  {
   "cell_type": "code",
   "execution_count": 47,
   "id": "067a90a3",
   "metadata": {},
   "outputs": [],
   "source": [
    "# define a new CCY that depends on birth rate and prob. of NOT getting infected. \n",
    "def CCY_bg(S, I, gamma=0.9, sigma=0.2, br=0.004, g=0.7):\n",
    "    S = br*(S+I) + gamma*S - gamma*S*(1-g) + (1-sigma)*gamma*I\n",
    "    I = gamma*I - (1-sigma)*gamma*I + gamma*S*(1-g)\n",
    "    return S, I, S+I"
   ]
  },
  {
   "cell_type": "code",
   "execution_count": 4,
   "id": "865a9cf1",
   "metadata": {},
   "outputs": [],
   "source": [
    "import matplotlib.pyplot as plt\n",
    "import numpy as np"
   ]
  },
  {
   "cell_type": "code",
   "execution_count": 5,
   "id": "471d1501",
   "metadata": {},
   "outputs": [],
   "source": [
    "# How do we want to represent the graph? \n",
    "# 1. comparing infected to susceptible\n",
    "# 2. comparing infected to total pop \n",
    "# 3. comparing susceptible to total pop\n",
    "\n",
    "\n",
    "def plot_CCY(S, I, T = 5, gamma = 0.9, sigma = 0.2):\n",
    "    S_list = []\n",
    "    I_list = []\n",
    "    N_list = []\n",
    "    N = S + I\n",
    "    for i in range(T):\n",
    "        S_list.append(S)\n",
    "        I_list.append(I)\n",
    "        N_list.append(N)\n",
    "        S, I, N = CCY(S, I, gamma, sigma)\n",
    "        \n",
    "    #1. Susceptible vs. Infected\n",
    "    plt.plot(S_list, I_list, c = 'r')\n",
    "    plt.ylim([0, N])\n",
    "    plt.xlabel('Susceptible Population')\n",
    "    plt.ylabel('Infected Population')\n",
    "    plt.title('Susc v Inf Pop with {0} = {1} and {2} = {3}'.format('$\\gamma$', gamma, '$\\sigma$', sigma))\n",
    "    plt.show()\n",
    "    \n",
    "    #2. Infected vs. Total\n",
    "    plt.plot(I_list, N_list, c = 'c')\n",
    "    plt.ylim([0, N])\n",
    "    plt.xlabel('Infected Population')\n",
    "    plt.ylabel('Total Population')\n",
    "    plt.title('Infected Pop with {0} = {1} and {2} = {3}'.format('$\\gamma$', gamma, '$\\sigma$', sigma))\n",
    "    plt.show()\n",
    "    \n",
    "    #3. Susceptible vs. Total\n",
    "    plt.plot(S_list, N_list, c = 'g')\n",
    "    plt.ylim([0, N])\n",
    "    plt.xlabel('Susceptible Population')\n",
    "    plt.ylabel('Total Population')\n",
    "    plt.title('Susceptible Pop with {0} = {1} and {2} = {3}'.format('$\\gamma$', gamma, '$\\sigma$', sigma))\n",
    "    plt.show()"
   ]
  },
  {
   "cell_type": "markdown",
   "id": "99f92b99",
   "metadata": {},
   "source": [
    "# $\\gamma =$  Probability of NOT dying \n",
    "\n",
    "# $\\sigma =$ Probability of NOT recovering"
   ]
  },
  {
   "cell_type": "code",
   "execution_count": 50,
   "id": "a32d3f6a",
   "metadata": {},
   "outputs": [
    {
     "data": {
      "image/png": "[encoded data removed]",
      "text/plain": [
       "<Figure size 432x288 with 1 Axes>"
      ]
     },
     "metadata": {
      "needs_background": "light"
     },
     "output_type": "display_data"
    },
    {
     "data": {
      "image/png": "[encoded data removed]",
      "text/plain": [
       "<Figure size 432x288 with 1 Axes>"
      ]
     },
     "metadata": {
      "needs_background": "light"
     },
     "output_type": "display_data"
    },
    {
     "data": {
      "image/png": "[encoded data removed]",
      "text/plain": [
       "<Figure size 432x288 with 1 Axes>"
      ]
     },
     "metadata": {
      "needs_background": "light"
     },
     "output_type": "display_data"
    }
   ],
   "source": [
    "# RECALL: plot_CCY(S, I, T, gamma, sigma)\n",
    "plot_CCY(100, 2, 20, 0.9, 0.1)"
   ]
  },
  {
   "cell_type": "code",
   "execution_count": 6,
   "id": "649dc0ff",
   "metadata": {},
   "outputs": [],
   "source": [
    "# define a new CCY that depends on birth rate and prob. of NOT getting infected. \n",
    "def CCY_bg(S, I, gamma=0.9, sigma=0.2, br=0.004, g=0.7):\n",
    "    S = br*(S+I) + gamma*S - gamma*S*(1-g) + (1-sigma)*gamma*I\n",
    "    I = gamma*I - (1-sigma)*gamma*I + gamma*S*(1-g)\n",
    "    return S, I, S+I"
   ]
  },
  {
   "cell_type": "code",
   "execution_count": 7,
   "id": "9eeb1662",
   "metadata": {},
   "outputs": [],
   "source": [
    "## Try to define functions in terms of the time step. \n",
    "\n",
    "def T_plot_CCY(S, I, gamma = 0.95, sigma = 0.05, T = 10, br = 0.02, g= 0.8):\n",
    "    x = np.linspace(0, T, T+1)\n",
    "    N = S+I\n",
    "    S_list = []\n",
    "    I_list = []\n",
    "    N_list = []\n",
    "    for t in x:\n",
    "        S_list.append(S)\n",
    "        I_list.append(I)\n",
    "        N_list.append(N)\n",
    "        S,I,N = CCY_bg(S, I, gamma, sigma, br, g)\n",
    "        \n",
    "    p = round(1 - g, 5)\n",
    "    nd = round(1- gamma, 5)\n",
    "    print('Your input: \\n Population growth rate is {0}% and probability of infection is {1}%.\\n The probability of NOT dying is {2}% and \\n the probability of NOT recovering is {3}%.'.format(br*100, p*100, gamma*100, sigma*100))\n",
    "    \n",
    "    print('\\n Population Growth Information: \\n')\n",
    "    if (nd) > br: \n",
    "        print ('The probability of dying is {0}% which is greater than the population growth rate, {1}%. \\n This means that the total population decreases over time.'.format(nd*100, br*100))\n",
    "    elif (nd) < br: \n",
    "        print ('The probability of dying is {0}% which is less than the population growth rate, {1}%. \\n This means that the total population increases over time.'.format(nd*100, br*100))\n",
    "    else: \n",
    "        print ('The probability of dying is {0}% which is the same as the population growth rate, {1}%. \\n This means that the total population levels out over time.'.format(nd*100, br*100))\n",
    "    \n",
    "    #1. plotting time vs susceptible pop. \n",
    "    plt.plot(x, S_list, c='c', label='susceptible', marker='o')\n",
    "    plt.xlabel('Time')\n",
    "    plt.ylabel('Susceptible Population')\n",
    "    plt.title('Susceptible Population with {0} time steps'.format(T))\n",
    "    plt.show()\n",
    "    \n",
    "    #2. plotting time vs infected pop. \n",
    "    plt.plot(x, I_list, c='g', label='infected', marker='o')\n",
    "    plt.xlabel('Time')\n",
    "    plt.ylabel('Infected Population')\n",
    "    plt.title('Infected Population with {0} time steps'.format(T))\n",
    "    plt.show()\n",
    "    \n",
    "    #3. plotting time vs. total pop. \n",
    "    plt.plot(x, N_list, c='r', label='total', marker='o')\n",
    "    plt.xlabel('Time')\n",
    "    plt.ylabel('Total Population')\n",
    "    plt.title('Total Population with {0} time steps'.format(T))\n",
    "    plt.show()"
   ]
  },
  {
   "cell_type": "markdown",
   "id": "c5e187fd",
   "metadata": {},
   "source": [
    "Some examples of annual population growth, for inputs of br. \n",
    "U.S. 0.4% \n",
    "\n",
    "India 1%\n",
    "\n",
    "U.K. 0.47%\n",
    "\n",
    "Russia -0.02%"
   ]
  },
  {
   "cell_type": "markdown",
   "id": "3f694d20",
   "metadata": {},
   "source": [
    "# $\\gamma =$  Probability of NOT dying \n",
    "\n",
    "# $\\sigma =$ Probability of NOT recovering\n",
    "T is the number of time steps you choose\n",
    "\n",
    "br is the birth rate constant (pop growth is br x N)\n",
    "\n",
    "g is the probability of NOT getting infected"
   ]
  },
  {
   "cell_type": "code",
   "execution_count": 184,
   "id": "f8aad116",
   "metadata": {},
   "outputs": [],
   "source": [
    "# T_plot_CCY(Susc. Pop, Inf. Pop, gamma, sigma, T, br, g)"
   ]
  },
  {
   "cell_type": "code",
   "execution_count": 9,
   "id": "90242d3e",
   "metadata": {},
   "outputs": [
    {
     "name": "stdout",
     "output_type": "stream",
     "text": [
      "Your input: \n",
      " Population growth rate is 3.0% and probability of infection is 20.0%.\n",
      " The probability of NOT dying is 95.0% and \n",
      " the probability of NOT recovering is 20.0%.\n",
      "\n",
      " Population Growth Information: \n",
      "\n",
      "The probability of dying is 5.0% which is greater than the population growth rate, 3.0%. \n",
      " This means that the total population decreases over time.\n"
     ]
    },
    {
     "data": {
      "image/png": "[encoded data removed]",
      "text/plain": [
       "<Figure size 432x288 with 1 Axes>"
      ]
     },
     "metadata": {
      "needs_background": "light"
     },
     "output_type": "display_data"
    },
    {
     "data": {
      "image/png": "[encoded data removed]",
      "text/plain": [
       "<Figure size 432x288 with 1 Axes>"
      ]
     },
     "metadata": {
      "needs_background": "light"
     },
     "output_type": "display_data"
    },
    {
     "data": {
      "image/png": "[encoded data removed]",
      "text/plain": [
       "<Figure size 432x288 with 1 Axes>"
      ]
     },
     "metadata": {
      "needs_background": "light"
     },
     "output_type": "display_data"
    }
   ],
   "source": [
    "T_plot_CCY(1000, 1, 0.95, 0.2, 10, 0.03, 0.8)"
   ]
  },
  {
   "cell_type": "code",
   "execution_count": null,
   "id": "149b3a70",
   "metadata": {},
   "outputs": [],
   "source": [
    "# Next: Combine 3 lines onto one graph? "
   ]
  },
  {
   "cell_type": "markdown",
   "id": "012a971e",
   "metadata": {},
   "source": [
    "--- NOTES FROM 4/20/22 --- \n",
    "\n",
    "brainstorm: different control strategies? \n",
    "reduce transmission probability (like masks, hygiene practices)\n",
    "recovery probability (treatment)\n",
    "introduce recovered class- permanent immunity or not\n",
    "vaccinated class\n",
    "\n",
    "--- to search for journal articles --- \n",
    "MathScinet Database (mostly mathematical) in university library\n",
    "Google Scholar -- cite feature to grab reference\n",
    "if not available -- you can also request a copy of a journal article through library website. \n",
    "\n"
   ]
  },
  {
   "cell_type": "code",
   "execution_count": null,
   "id": "5a3310f9",
   "metadata": {},
   "outputs": [],
   "source": []
  }
 ],
 "metadata": {
  "kernelspec": {
   "display_name": "Python 3 (ipykernel)",
   "language": "python",
   "name": "python3"
  },
  "language_info": {
   "codemirror_mode": {
    "name": "ipython",
    "version": 3
   },
   "file_extension": ".py",
   "mimetype": "text/x-python",
   "name": "python",
   "nbconvert_exporter": "python",
   "pygments_lexer": "ipython3",
   "version": "3.9.7"
  }
 },
 "nbformat": 4,
 "nbformat_minor": 5
}
