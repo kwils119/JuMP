{
 "cells": [
  {
   "cell_type": "markdown",
   "id": "50dbed40",
   "metadata": {},
   "source": [
    "# Module 1B\n",
    "# The discrete SIS model for infectious disease.\n",
    "\n",
    "In order for disease to spread, you need at least two groups of individuals: susceptible and infectious.\n",
    "\n",
    "- Susceptible (S): doesn't harbor the pathogen and is capable of being infected.\n",
    "- Infectious (I): harbors the pathogen and is capable of transmitting it to others.\n",
    "\n",
    "Let's assume for now that our individuals are people, but they need not be.  They could be plants or non-human animals as well! How do new infections arise?  The susceptible individual must come into contact with the pathogen in some way, but there are various possible modes of transmission, including the categories of direct and indirect transmission.  See for example the CDC definitions here: https://www.cdc.gov/csels/dsepd/ss1978/lesson1/section10.html\n",
    "\n",
    "We will consider here a directly transmitted disease that spreads through droplets.  Some additional assumptions:\n",
    "\n",
    "1. No immunity is gained by having been infected. This means I-individuals return to S when they recover.\n",
    "2. The only demography is births and natural deaths (no immigration or emmigration)\n",
    "3. The disease does not affect population demographics (i.e. disease is non-fatal, and disease doesn't impact births).\n",
    "4. All individuals are born susceptible.\n",
    "\n",
    "We are interested in tracking the number of S and I individuals over time.  In particular, we will track the number of individuals at discrete points in time $t_n$, $n=0,1,2,\\ldots$, which we can refer to as 'generations'.\n",
    "\n",
    "On paper, try to come up with your own model for this process using the idea of differnce equations.  This should look something like:\n",
    "\n",
    "\\begin{align}\n",
    "S_{n+1} = f(I_n, S_n, N_n)\\\\\n",
    "I_{n+1} = g(I_n, S_n, N_n)\n",
    "\\end{align}\n",
    "\n",
    "where $N_n = S_n + I_n$ is the total population size.\n",
    "\n",
    "Note: Here, I'm using the notation that X_n = X(t_n).\n",
    "\n",
    "You can approach this task by first trying to describe your equation in words?  What happens when someone is born? dies? becomes infected? recovered?  Where should those events go in your equations?"
   ]
  },
  {
   "cell_type": "markdown",
   "id": "e9f2481f",
   "metadata": {},
   "source": [
    "# DON'T LOOK at the equations below before you give the previous exercise serious thought :)"
   ]
  },
  {
   "cell_type": "code",
   "execution_count": null,
   "id": "061a67aa",
   "metadata": {},
   "outputs": [],
   "source": []
  },
  {
   "cell_type": "code",
   "execution_count": null,
   "id": "979f2dc4",
   "metadata": {},
   "outputs": [],
   "source": []
  },
  {
   "cell_type": "code",
   "execution_count": null,
   "id": "d0f61ad7",
   "metadata": {},
   "outputs": [],
   "source": []
  },
  {
   "cell_type": "code",
   "execution_count": null,
   "id": "119e2c9d",
   "metadata": {},
   "outputs": [],
   "source": []
  },
  {
   "cell_type": "code",
   "execution_count": null,
   "id": "47ff4c29",
   "metadata": {},
   "outputs": [],
   "source": []
  },
  {
   "cell_type": "markdown",
   "id": "be504288",
   "metadata": {},
   "source": [
    "# No peaking!"
   ]
  },
  {
   "cell_type": "code",
   "execution_count": null,
   "id": "477b4130",
   "metadata": {},
   "outputs": [],
   "source": []
  },
  {
   "cell_type": "code",
   "execution_count": null,
   "id": "468f661b",
   "metadata": {},
   "outputs": [],
   "source": []
  },
  {
   "cell_type": "code",
   "execution_count": null,
   "id": "26444e8b",
   "metadata": {},
   "outputs": [],
   "source": []
  },
  {
   "cell_type": "code",
   "execution_count": null,
   "id": "b4659d22",
   "metadata": {},
   "outputs": [],
   "source": []
  },
  {
   "cell_type": "markdown",
   "id": "122a3f58",
   "metadata": {},
   "source": [
    "# OK...now you can look...\n",
    "\n",
    "There are different ways that we could formulate this model.  Here, I will introduce one published by Castillo-Chavez and Yakuba in 2001 (https://ecommons.cornell.edu/bitstream/handle/1813/32131/BU-1539-M.pdf;sequence=1).  Let's first introduce some notation for our model parameters (the inputs to the model).  One thing that is important to keep in mind is the order of events.  The sequence of events that we will consider here is as follow:\n",
    "\n",
    "1. Determine how many S and I individuals at $t_n$ survive to generation $t_{n+1}$.\n",
    "2. Of those surviving S individuals, determine how many become infected.  Of those surviving I individuals, how many recover?\n",
    "\n",
    "$\\gamma$ - probability of NOT dying in each generation.\n",
    "\n",
    "$\\sigma$ - probability of NOT recovering in each generation.\n",
    "\n",
    "$G(x)$ - probability that an S individual does NOT become infected in each generation.  This should be a function of the disease prevalence, that is, $x = \\frac{I_n}{N_n}$.\n",
    "\n",
    "Using this notation, see if you can derive the corresponding model.\n",
    "\n",
    "Note: anything that is a probability should be between 0 and 1."
   ]
  },
  {
   "cell_type": "code",
   "execution_count": null,
   "id": "acf95bad",
   "metadata": {},
   "outputs": [],
   "source": []
  },
  {
   "cell_type": "code",
   "execution_count": null,
   "id": "be4df34b",
   "metadata": {},
   "outputs": [],
   "source": []
  },
  {
   "cell_type": "code",
   "execution_count": null,
   "id": "fd67a9bf",
   "metadata": {},
   "outputs": [],
   "source": []
  },
  {
   "cell_type": "code",
   "execution_count": null,
   "id": "fb7057df",
   "metadata": {},
   "outputs": [],
   "source": []
  },
  {
   "cell_type": "code",
   "execution_count": null,
   "id": "2b9e7ca6",
   "metadata": {},
   "outputs": [],
   "source": []
  },
  {
   "cell_type": "code",
   "execution_count": null,
   "id": "9dc218b7",
   "metadata": {},
   "outputs": [],
   "source": []
  },
  {
   "cell_type": "markdown",
   "id": "e6734b98",
   "metadata": {},
   "source": [
    "You should end up with the following system of equations:\n",
    "\n",
    "\\begin{align}\n",
    "S_{n+1} &= f(N_n) + \\gamma S_n - \\gamma S_n(1-G(I_n/N_n)) + (1-\\sigma)\\gamma I_n\\\\\n",
    "I_{n+1} &= \\gamma I_n - (1-\\sigma)\\gamma I_n + \\gamma S_n (1 - G(I_n/N_n))\n",
    "\\end{align}\n",
    "\n",
    "Write some code to compute the solution over a series of time points and plot the trajectories over time.  You get to choose the values for the initial conditions, parameters, the time points, and the time span."
   ]
  },
  {
   "cell_type": "code",
   "execution_count": null,
   "id": "447243e3",
   "metadata": {},
   "outputs": [],
   "source": []
  }
 ],
 "metadata": {
  "kernelspec": {
   "display_name": "Python 3 (ipykernel)",
   "language": "python",
   "name": "python3"
  },
  "language_info": {
   "codemirror_mode": {
    "name": "ipython",
    "version": 3
   },
   "file_extension": ".py",
   "mimetype": "text/x-python",
   "name": "python",
   "nbconvert_exporter": "python",
   "pygments_lexer": "ipython3",
   "version": "3.9.7"
  }
 },
 "nbformat": 4,
 "nbformat_minor": 5
}
